{
  "nbformat": 4,
  "nbformat_minor": 0,
  "metadata": {
    "colab": {
      "name": "_2 텍스트 수집 및 키워드 분석.ipynb",
      "provenance": [],
      "collapsed_sections": [],
      "toc_visible": true,
      "include_colab_link": true
    },
    "kernelspec": {
      "name": "python3",
      "display_name": "Python 3"
    }
  },
  "cells": [
    {
      "cell_type": "markdown",
      "metadata": {
        "id": "view-in-github",
        "colab_type": "text"
      },
      "source": [
        "<a href=\"https://colab.research.google.com/github/kongjaehyun/colab/blob/main/_2_%ED%85%8D%EC%8A%A4%ED%8A%B8_%EC%88%98%EC%A7%91_%EB%B0%8F_%ED%82%A4%EC%9B%8C%EB%93%9C_%EB%B6%84%EC%84%9D.ipynb\" target=\"_parent\"><img src=\"https://colab.research.google.com/assets/colab-badge.svg\" alt=\"Open In Colab\"/></a>"
      ]
    },
    {
      "cell_type": "markdown",
      "source": [
        "# 텍스트 수집 및 키워드 분석"
      ],
      "metadata": {
        "id": "WL5x6HsgzNfI"
      }
    },
    {
      "cell_type": "markdown",
      "metadata": {
        "id": "armZiPJzmIFk"
      },
      "source": [
        "## 한글 폰트 설정\n",
        "\n",
        "* 실행 후 런타임 재시작 필요"
      ]
    },
    {
      "cell_type": "code",
      "metadata": {
        "id": "pDd_QGuRmGe5"
      },
      "source": [
        "import matplotlib as mpl\n",
        "import matplotlib.pyplot as plt\n",
        "plt.style.use('seaborn-white')\n",
        "\n",
        "%config InlineBackend.figure_format='retina'\n",
        "\n",
        "!apt -qq -y install fonts-nanum\n",
        "\n",
        "import matplotlib.font_manager as fm\n",
        "fontpath = '/usr/share/fonts/truetype/nanum/NanumBarunGothic.ttf'\n",
        "font = fm.FontProperties(fname=fontpath, size=10)\n",
        "plt.rc('font', family='NanumBarunGothic')\n",
        "mpl.font_manager._rebuild()"
      ],
      "execution_count": null,
      "outputs": []
    },
    {
      "cell_type": "markdown",
      "metadata": {
        "id": "jQy8dm_-Zg2D"
      },
      "source": [
        "## 한국어 형태소 분석기 설치\n",
        "\n",
        "* 한국어 자연어 처리 konlpy 라이브러리\n",
        "* 형태소 분석기 MeCab 설치\n",
        "* 설치 명령어: \n",
        "`!curl -s https://raw.githubusercontent.com/teddylee777/machine-learning/master/99-Misc/01-Colab/mecab-colab.sh | bash`"
      ]
    },
    {
      "cell_type": "code",
      "metadata": {
        "id": "MTrlHJhQZg2E"
      },
      "source": [],
      "execution_count": null,
      "outputs": []
    },
    {
      "cell_type": "markdown",
      "metadata": {
        "id": "njXpmXifM6D-"
      },
      "source": [
        "## 키워드 분석(Keyword Analysis)"
      ]
    },
    {
      "cell_type": "markdown",
      "metadata": {
        "id": "pvUu6DwlNLm9"
      },
      "source": [
        "* 핵심어(keyword)란 텍스트 자료의 중요한 내용을 압축적으로 제시하는 단어 또는 문구\n",
        "* 핵심어 분석이란 불용어 제거와 어간추출 및 형태소 분석 등의 자연어 처리를 시행한 후 텍스트에서 많이 등장하는 형태소의 등장 빈도를 분석함으로써 핵심어를 추출   \n",
        "* 특정 텍스트 자료에 많이 나타나는 형태소가 그 텍스트 주제를 표출할 가능성이 높다는 가정에 기초  \n",
        "* 물론 빈도 분석에서 영어의 전치사나 한국어의 조사와 같이 의미를 별로 담고 있지 않은 불용어는 제외하는 것이 좋음\n",
        "* 키워드 분석은 텍스트의 주제 추정, 텍스트 유사도, 검색 엔진의 검색 결과 우선 순위 측정 등 다양하게 사용될 수 있음"
      ]
    },
    {
      "cell_type": "markdown",
      "metadata": {
        "id": "NrJWPH28S2Bp"
      },
      "source": [
        "### 네이버 영화 리뷰 데이터"
      ]
    },
    {
      "cell_type": "markdown",
      "metadata": {
        "id": "-XB2wgChQ8KV"
      },
      "source": [
        "* 키워드 분석에는 네이버 영화 리뷰 데이터를 사용\n",
        "* 데이터 다운로드: https://raw.githubusercontent.com/e9t/nsmc/master/ratings.txt"
      ]
    },
    {
      "cell_type": "code",
      "metadata": {
        "id": "f87bl27DQS87"
      },
      "source": [],
      "execution_count": null,
      "outputs": []
    },
    {
      "cell_type": "markdown",
      "metadata": {
        "id": "VRaviObSRI-7"
      },
      "source": [
        "* 데이터를 확인해보면 모두 바이트로 이루어져 있으며, 리뷰 외의 다른 데이터도 존재\n",
        "* 데이터를 문자열로 변환하고 리뷰만 추출"
      ]
    },
    {
      "cell_type": "code",
      "metadata": {
        "id": "mIDt6COKRJGO"
      },
      "source": [],
      "execution_count": null,
      "outputs": []
    },
    {
      "cell_type": "markdown",
      "metadata": {
        "id": "65sLf2AkL440"
      },
      "source": [
        "### 형태소 분석을 이용한 명사 추출\n"
      ]
    },
    {
      "cell_type": "markdown",
      "metadata": {
        "id": "_RvU-xVmf-aQ"
      },
      "source": [
        "* 형태소 분석기 Mecab으로 명사만 추출"
      ]
    },
    {
      "cell_type": "code",
      "metadata": {
        "id": "kC0wR2GBTD4G"
      },
      "source": [],
      "execution_count": null,
      "outputs": []
    },
    {
      "cell_type": "markdown",
      "metadata": {
        "id": "RfG7OgV_L446"
      },
      "source": [
        "#### 불용어(Stopwords) 사전 만들기\n",
        "\n",
        "* 형태소 분석을 통해 조사, 접속사 등의 제거 가능\n",
        "* 하지만 한국어는 명사에서도 상당히 많은 불필요한 단어들이 포함\n",
        "* 사용자가 직접 불용어 사전을 유지하면서 불필요한 단어 제거 필요\n",
        "* 불용어 예: `전 난 일 걸 뭐 줄 만 건 분 개 끝 잼 이거 번 중 듯 때 게 내 말 나 수 거 점 것 후 이 애 씨 속 뿐 밋 그 급 ㄷ 데`\n",
        "* 빈도가 너무 커서 분석에 방해되는 단어도 제거 필요 (예: `영화`)\n"
      ]
    },
    {
      "cell_type": "code",
      "metadata": {
        "id": "PxXHMeHEL446"
      },
      "source": [],
      "execution_count": null,
      "outputs": []
    },
    {
      "cell_type": "markdown",
      "metadata": {
        "id": "QHBAWtzAL449"
      },
      "source": [
        "#### 불용어를 제외하여 형태소 분석 수행\n",
        "\n",
        "* 한글 텍스트에 대해서 형태소 분석 수행\n",
        "* 분석으로 추출하는 명사 중에서 불용어에 포함되지 않은 텍스트만 추출하여 저장"
      ]
    },
    {
      "cell_type": "code",
      "metadata": {
        "id": "Oz2yf12vL44-"
      },
      "source": [],
      "execution_count": null,
      "outputs": []
    },
    {
      "cell_type": "markdown",
      "metadata": {
        "id": "QHRt9alfTMj3"
      },
      "source": [
        "### 단어 빈도수 측정"
      ]
    },
    {
      "cell_type": "markdown",
      "metadata": {
        "id": "MXbsTUQLA7FH"
      },
      "source": [
        "* 단어 빈도수 측정에는 `collections` 라이브러리의 `Counter` 함수를 이용\n",
        "* `collections` 라이브러리는 내장 라이브러리로 별도 설치가 필요없음\n",
        "* `counter`를 이용하면 각 단어와 각 단어의 빈도 수를 딕셔너리로 편리하게 생성 가능"
      ]
    },
    {
      "cell_type": "code",
      "metadata": {
        "id": "2nnOU6NDTWM9"
      },
      "source": [],
      "execution_count": null,
      "outputs": []
    },
    {
      "cell_type": "markdown",
      "metadata": {
        "id": "t6w6mEQ_Aamt"
      },
      "source": [
        "### 단어 빈도 시각화"
      ]
    },
    {
      "cell_type": "code",
      "metadata": {
        "id": "rEP8sDZuAbC9"
      },
      "source": [],
      "execution_count": null,
      "outputs": []
    },
    {
      "cell_type": "markdown",
      "metadata": {
        "id": "BEY3ldWmNECt"
      },
      "source": [
        "### 트리맵(Treemap) 시각화"
      ]
    },
    {
      "cell_type": "markdown",
      "metadata": {
        "id": "ApiLK6KhZM3d"
      },
      "source": [
        "* `squarify`는 트리맵 생성을 지원해주는 파이썬 라이브러리\n",
        "* `squarify` 라이브러리를 이용해 키워드와 키워드 빈도 수를 트리맵으로 나타냄   "
      ]
    },
    {
      "cell_type": "code",
      "metadata": {
        "id": "RkTxL_qPqVnH"
      },
      "source": [],
      "execution_count": null,
      "outputs": []
    },
    {
      "cell_type": "code",
      "metadata": {
        "id": "cj_Y-VslNJDg"
      },
      "source": [],
      "execution_count": null,
      "outputs": []
    },
    {
      "cell_type": "markdown",
      "metadata": {
        "id": "jOvekEYJNBHd"
      },
      "source": [
        "### 워드클라우드(WordCloud) 시각화"
      ]
    },
    {
      "cell_type": "markdown",
      "metadata": {
        "id": "094GGnh5N_jH"
      },
      "source": [
        "* 텍스트에 담겨있는 여러 형태소들의 등장 빈도를 가장 직관적으로 시각화하는 방법\n",
        "* 텍스트에 등장하는 단어를 그 등장 빈도에 따라 서로 크기가 다르게 구름 형태로 표현함으로써, 단어의 빈도 수를 한번에 알 수 있음  \n",
        "* 최근에 많은 서비스들이 어떤 핵심어가 많이 등장했는가를 워드클라우드 형식으로 시각화\n",
        "* 빈도 수만을 시각적으로 표현한 것이기 때문에, 단어들 사이의 연관성이나 의미 구조 등을 분석하는 데는 한계가 있음"
      ]
    },
    {
      "cell_type": "markdown",
      "metadata": {
        "id": "Py-tW4-whw5s"
      },
      "source": [
        "* 파이썬에서 워드 클라우드를 시각화하기 위해 `matplotlib` 라이브러리와 `WordCloud` 라이브러리를 `import` 해서 사용\n",
        "* `WordCloud` 라이브러리는 `pip install wordcloud` 명령어를 통해 설치 필요"
      ]
    },
    {
      "cell_type": "code",
      "metadata": {
        "id": "kARobmm2NDgl"
      },
      "source": [],
      "execution_count": null,
      "outputs": []
    },
    {
      "cell_type": "markdown",
      "metadata": {
        "id": "MHtxdWK5irIr"
      },
      "source": [
        "* WordCloud를 이용해 객체를 생성해주고,\n",
        "`generate_from_frequencies()` 함수로 빈도 수에 따라 워드클라우드 생성"
      ]
    },
    {
      "cell_type": "code",
      "metadata": {
        "id": "JUYNxKiqOoDz"
      },
      "source": [],
      "execution_count": null,
      "outputs": []
    },
    {
      "cell_type": "markdown",
      "metadata": {
        "id": "DAND3HwGYscl"
      },
      "source": [
        "* 워드클라우드를 시각화할 때는 이미지 시각화 함수인 `imshow()` 함수를 사용해야 함"
      ]
    },
    {
      "cell_type": "code",
      "metadata": {
        "id": "c66M9M2ZYomO"
      },
      "source": [],
      "execution_count": null,
      "outputs": []
    },
    {
      "cell_type": "markdown",
      "metadata": {
        "id": "j78k6BYe8-MH"
      },
      "source": [
        "## 네이버 검색 API 서비스"
      ]
    },
    {
      "cell_type": "markdown",
      "metadata": {
        "id": "ayc35usxJUqg"
      },
      "source": [
        "### 네이버 서비스 API 신청\n",
        "\n",
        "1. 네이버 개발자센터: https://developers.naver.com/\n",
        "2. 어플리케이션 등록\n",
        "3. 클라이언트 ID/SECRET 확인"
      ]
    },
    {
      "cell_type": "markdown",
      "metadata": {
        "id": "dtDmAvc-JXS3"
      },
      "source": [
        "### NAVER 서비스 API 종류\n",
        "\n",
        "| 항목 | 주소                                         |\n",
        "|------|----------------------------------------------|\n",
        "|블로그| https://openapi.naver.com/v1/search/blog.json |\n",
        "|뉴스　| https://openapi.naver.com/v1/search/news.json |\n",
        "| 책　 | https://openapi.naver.com/v1/search/book.json|\n",
        "| 성인 검색어 판별|　https://openapi.naver.com/v1/search/adult.json|\n",
        "| 백과사전| https://openapi.naver.com/v1/search/encyc.json|\n",
        "| 영화| https://openapi.naver.com/v1/search/movie.json|\n",
        "| 카페글 |https://openapi.naver.com/v1/search/cafearticle.json|\n",
        "| 지식in| https://openapi.naver.com/v1/search/kin.json|\n",
        "| 지역 | https://openapi.naver.com/v1/search/local.json|\n",
        "| 오타변환 | https://openapi.naver.com/v1/search/errata.json|\n",
        "| 웹문서 | https://openapi.naver.com/v1/search/webkr.json|\n",
        "| 이미지 | https://openapi.naver.com/v1/search/image.json|\n",
        "| 쇼핑 | https://openapi.naver.com/v1/search/shop.json|\n",
        "| 전문자료 | https://openapi.naver.com/v1/search/doc.json|"
      ]
    },
    {
      "cell_type": "markdown",
      "source": [
        "## 네이버 웹문서 키워드 분석"
      ],
      "metadata": {
        "id": "ZxlASRjPJ9Cc"
      }
    },
    {
      "cell_type": "markdown",
      "metadata": {
        "id": "TDhM5R6UAkvt"
      },
      "source": [
        "### 네이버 웹문서 검색 API"
      ]
    },
    {
      "cell_type": "code",
      "metadata": {
        "id": "SdVM9oiw83vH"
      },
      "source": [],
      "execution_count": null,
      "outputs": []
    },
    {
      "cell_type": "code",
      "source": [],
      "metadata": {
        "id": "m8QFBG2yKRQr"
      },
      "execution_count": null,
      "outputs": []
    },
    {
      "cell_type": "markdown",
      "metadata": {
        "id": "I7KK4x8gKpMM"
      },
      "source": [
        "### 형태소 분석을 이용한 명사 추출\n"
      ]
    },
    {
      "cell_type": "markdown",
      "source": [
        "#### 불용어 사전"
      ],
      "metadata": {
        "id": "yX_3pbIxSOkn"
      }
    },
    {
      "cell_type": "markdown",
      "source": [
        "불용어 예제: `인공지능 인공 지능 분야 수 것 등 기반 일 년 말 문 월 이 명 깨 개 중 범 부 딥 빅 책 분 봉 차 나 내 전 억 대 형 선 사 폼 원 번`"
      ],
      "metadata": {
        "id": "RZK50dRkRaQQ"
      }
    },
    {
      "cell_type": "code",
      "metadata": {
        "id": "nPzx_yPMKpMR"
      },
      "source": [],
      "execution_count": null,
      "outputs": []
    },
    {
      "cell_type": "code",
      "metadata": {
        "id": "TC8MW75FKpMS"
      },
      "source": [],
      "execution_count": null,
      "outputs": []
    },
    {
      "cell_type": "markdown",
      "metadata": {
        "id": "BYO3hEgPKpMT"
      },
      "source": [
        "### 단어 빈도수 측정"
      ]
    },
    {
      "cell_type": "code",
      "metadata": {
        "id": "h8o9ZT3iKpMU"
      },
      "source": [],
      "execution_count": null,
      "outputs": []
    },
    {
      "cell_type": "markdown",
      "metadata": {
        "id": "VCRZZImgKpMV"
      },
      "source": [
        "### 단어 빈도 시각화"
      ]
    },
    {
      "cell_type": "code",
      "metadata": {
        "id": "I3GA_2w6KpMV"
      },
      "source": [],
      "execution_count": null,
      "outputs": []
    },
    {
      "cell_type": "markdown",
      "metadata": {
        "id": "W3ppyGqCTrDR"
      },
      "source": [
        "### 트리맵 시각화"
      ]
    },
    {
      "cell_type": "code",
      "metadata": {
        "id": "vwrDK5j2TrDS"
      },
      "source": [],
      "execution_count": null,
      "outputs": []
    },
    {
      "cell_type": "markdown",
      "metadata": {
        "id": "GRzZtQPXKpMW"
      },
      "source": [
        "### 워드클라우드 시각화"
      ]
    },
    {
      "cell_type": "code",
      "metadata": {
        "id": "eeZRpj5sKpMZ"
      },
      "source": [],
      "execution_count": null,
      "outputs": []
    },
    {
      "cell_type": "markdown",
      "source": [
        "## 네이버 뉴스 키워드 분석"
      ],
      "metadata": {
        "id": "pXCF0dcGODlQ"
      }
    },
    {
      "cell_type": "markdown",
      "metadata": {
        "id": "9vc7ux2cHq2_"
      },
      "source": [
        "### 네이버 뉴스 검색 API"
      ]
    },
    {
      "cell_type": "code",
      "metadata": {
        "id": "DObaLZ00HtYr"
      },
      "source": [],
      "execution_count": null,
      "outputs": []
    },
    {
      "cell_type": "code",
      "source": [],
      "metadata": {
        "id": "tciZYkeQODla"
      },
      "execution_count": null,
      "outputs": []
    },
    {
      "cell_type": "markdown",
      "metadata": {
        "id": "emAorT-aODlb"
      },
      "source": [
        "### 형태소 분석을 이용한 명사 추출\n"
      ]
    },
    {
      "cell_type": "code",
      "metadata": {
        "id": "nZVUzeH4ODlb"
      },
      "source": [],
      "execution_count": null,
      "outputs": []
    },
    {
      "cell_type": "markdown",
      "metadata": {
        "id": "sIpvFS15ODlc"
      },
      "source": [
        "### 단어 빈도수 측정"
      ]
    },
    {
      "cell_type": "code",
      "metadata": {
        "id": "-WDNiZhGODlc"
      },
      "source": [],
      "execution_count": null,
      "outputs": []
    },
    {
      "cell_type": "markdown",
      "metadata": {
        "id": "D3XRZ05CODld"
      },
      "source": [
        "### 단어 빈도 시각화"
      ]
    },
    {
      "cell_type": "code",
      "metadata": {
        "id": "QI783KdjODld"
      },
      "source": [],
      "execution_count": null,
      "outputs": []
    },
    {
      "cell_type": "markdown",
      "metadata": {
        "id": "9neU1nB2TTdk"
      },
      "source": [
        "### 트리맵 시각화"
      ]
    },
    {
      "cell_type": "code",
      "metadata": {
        "id": "-nMkmoUFTTdm"
      },
      "source": [],
      "execution_count": null,
      "outputs": []
    },
    {
      "cell_type": "markdown",
      "metadata": {
        "id": "raMWU-YrODle"
      },
      "source": [
        "### 워드클라우드 시각화"
      ]
    },
    {
      "cell_type": "code",
      "metadata": {
        "id": "uP8SGE3SODle"
      },
      "source": [],
      "execution_count": null,
      "outputs": []
    },
    {
      "cell_type": "markdown",
      "source": [
        "## 네이버 블로그 키워드 분석"
      ],
      "metadata": {
        "id": "Ndq8BrfbQSxn"
      }
    },
    {
      "cell_type": "markdown",
      "metadata": {
        "id": "v70JLX5ZByQH"
      },
      "source": [
        "### 네이버 블로그 검색 API"
      ]
    },
    {
      "cell_type": "code",
      "metadata": {
        "id": "1lLyP5JnBcT9"
      },
      "source": [],
      "execution_count": null,
      "outputs": []
    },
    {
      "cell_type": "code",
      "source": [],
      "metadata": {
        "id": "1a8hE5V0QSx9"
      },
      "execution_count": null,
      "outputs": []
    },
    {
      "cell_type": "markdown",
      "metadata": {
        "id": "4VClSA3_QSx-"
      },
      "source": [
        "### 형태소 분석을 이용한 명사 추출\n"
      ]
    },
    {
      "cell_type": "code",
      "metadata": {
        "id": "i-upv3sGQSx_"
      },
      "source": [],
      "execution_count": null,
      "outputs": []
    },
    {
      "cell_type": "markdown",
      "metadata": {
        "id": "LcrYbH6QQSx_"
      },
      "source": [
        "### 단어 빈도수 측정"
      ]
    },
    {
      "cell_type": "code",
      "metadata": {
        "id": "Pq5kiIFYQSyA"
      },
      "source": [],
      "execution_count": null,
      "outputs": []
    },
    {
      "cell_type": "markdown",
      "metadata": {
        "id": "pHZ6n5ZKQSyA"
      },
      "source": [
        "### 단어 빈도 시각화"
      ]
    },
    {
      "cell_type": "code",
      "metadata": {
        "id": "2mxhVmx0QSyB"
      },
      "source": [],
      "execution_count": null,
      "outputs": []
    },
    {
      "cell_type": "markdown",
      "metadata": {
        "id": "r7XKigMoTksP"
      },
      "source": [
        "### 트리맵 시각화"
      ]
    },
    {
      "cell_type": "code",
      "metadata": {
        "id": "3lUBV0qfTksQ"
      },
      "source": [],
      "execution_count": null,
      "outputs": []
    },
    {
      "cell_type": "markdown",
      "metadata": {
        "id": "67d5-7SwQSyB"
      },
      "source": [
        "### 워드클라우드 시각화"
      ]
    },
    {
      "cell_type": "code",
      "metadata": {
        "id": "C5Xyb0rLQSyB"
      },
      "source": [],
      "execution_count": null,
      "outputs": []
    }
  ]
}